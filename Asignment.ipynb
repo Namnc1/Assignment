{
  "metadata": {
    "language_info": {
      "codemirror_mode": {
        "name": "python",
        "version": 3
      },
      "file_extension": ".py",
      "mimetype": "text/x-python",
      "name": "python",
      "nbconvert_exporter": "python",
      "pygments_lexer": "ipython3",
      "version": "3.8"
    },
    "kernelspec": {
      "name": "python",
      "display_name": "Pyolite",
      "language": "python"
    }
  },
  "nbformat_minor": 4,
  "nbformat": 4,
  "cells": [
    {
      "cell_type": "markdown",
      "source": "# My Jupyter Notebook on IBM Watson Studio\n",
      "metadata": {}
    },
    {
      "cell_type": "markdown",
      "source": "Nguyen Canh Nam \\\nI want to be Data Science\n\n",
      "metadata": {}
    },
    {
      "cell_type": "markdown",
      "source": "*I am interested in data science because Data science makes me feel powerful*\n\n",
      "metadata": {}
    },
    {
      "cell_type": "markdown",
      "source": "### i will write a simple calculation on jupiter notebook\n",
      "metadata": {}
    },
    {
      "cell_type": "code",
      "source": "a = 10\nb = 5\nc = a * b\nprint(c)",
      "metadata": {
        "trusted": true
      },
      "execution_count": 9,
      "outputs": [
        {
          "name": "stdout",
          "text": "50\n",
          "output_type": "stream"
        }
      ]
    },
    {
      "cell_type": "markdown",
      "source": "[Click here](https://www.google.com)",
      "metadata": {}
    },
    {
      "cell_type": "markdown",
      "source": "User | Department \n--- | --- \n*Namnc1* | `PFA` \n1 | 2 ",
      "metadata": {}
    },
    {
      "cell_type": "code",
      "source": "",
      "metadata": {},
      "execution_count": null,
      "outputs": []
    }
  ]
}